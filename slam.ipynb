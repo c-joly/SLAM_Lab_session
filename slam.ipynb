{
 "cells": [
  {
   "cell_type": "code",
   "execution_count": 8,
   "metadata": {},
   "outputs": [],
   "source": [
    "import numpy as np\n",
    "import matplotlib.pyplot as plt\n",
    "import matplotlib.animation as animation\n",
    "\n",
    "%matplotlib widget\n"
   ]
  },
  {
   "cell_type": "markdown",
   "metadata": {},
   "source": [
    "First step: load measurements and visualize it\n",
    "========"
   ]
  },
  {
   "cell_type": "code",
   "execution_count": 9,
   "metadata": {},
   "outputs": [],
   "source": [
    "noisy = True  # False for no noise (cool for debug)\n",
    "if noisy:\n",
    "    measurements = np.load(\"measurements.npy\")\n",
    "else:\n",
    "    measurements = np.load(\"measurements_without_noise.npy\")\n",
    "\n",
    "# Time: \n",
    "t = np.arange(0,80+.1,0.1) # timestamps start from 0 and go to 80s, at 10Hz\n"
   ]
  },
  {
   "cell_type": "markdown",
   "metadata": {},
   "source": [
    "`measurements`contains all the measurements for each landmarks according to the time. It is a matrix with the following structure:\n",
    "  - Each column contains the measurement of all the landmarks of the scene at a specific timestamps\n",
    "  - If a landmarks is **not seen** at a specific time, its value will be `NaN`\n",
    "  - The measurements represents the coordinates of the landmark in the robot frame\n",
    "  - **The noisy version is affected by a Gaussian noise of standard deviation $\\sigma_R = 0.2m$**\n",
    "\n",
    "Thus, `measurements` has the following structure:\n",
    "$$\n",
    "\\begin{bmatrix}\n",
    "  x_0(t=0) & x_0(t=0.1) & \\dots & x_0(t=80) \\\\\n",
    "  y_0(t=0) & y_0(t=0.1) & \\dots & y_0(t=80) \\\\\n",
    "  x_1(t=0) & x_1(t=0.1) & \\dots & x_1(t=80) \\\\\n",
    "  y_1(t=0) & y_1(t=0.1) & \\dots & y_1(t=80) \\\\\n",
    "  \\vdots & \\vdots & \\ddots & \\vdots \\\\  \n",
    "  x_{N-1}(t=0) & x_{N-1}(t=0.1) & \\dots & x_{N-1}(t=80) \\\\\n",
    "  y_{N-1}(t=0) & y_{N-1}(t=0.1) & \\dots & y_{N-1}(t=80) \\\\\n",
    "\\end{bmatrix}\n",
    "$$\n"
   ]
  },
  {
   "cell_type": "code",
   "execution_count": 10,
   "metadata": {},
   "outputs": [
    {
     "data": {
      "application/vnd.jupyter.widget-view+json": {
       "model_id": "2fc976c379ca436285b3114e4ef7d416",
       "version_major": 2,
       "version_minor": 0
      },
      "image/png": "[encoded data removed]",
      "text/html": [
       "\n",
       "            <div style=\"display: inline-block;\">\n",
       "                <div class=\"jupyter-widgets widget-label\" style=\"text-align: center;\">\n",
       "                    Figure\n",
       "                </div>\n",
       "                <img src='data:image/png;base64,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' width=640.0/>\n",
       "            </div>\n",
       "        "
      ],
      "text/plain": [
       "Canvas(toolbar=Toolbar(toolitems=[('Home', 'Reset original view', 'home', 'home'), ('Back', 'Back to previous …"
      ]
     },
     "metadata": {},
     "output_type": "display_data"
    }
   ],
   "source": [
    "# Animation of the measurements\n",
    "\n",
    "fig, ax = plt.subplots()\n",
    "pts = ax.plot(measurements[0::2,0],measurements[1::2,0],'x')[0]\n",
    "ax.set_aspect(1)\n",
    "j=0\n",
    "def update(frame):\n",
    "    global j\n",
    "    j = j+1\n",
    "    pts.set_xdata(measurements[0::2,j])\n",
    "    pts.set_ydata(measurements[1::2,j])\n",
    "    return (pts)\n",
    "\n",
    "\n",
    "ani = animation.FuncAnimation(fig=fig, func=update, frames=len(t)-2, interval=100,repeat=False)\n",
    "plt.show()"
   ]
  },
  {
   "cell_type": "code",
   "execution_count": 11,
   "metadata": {},
   "outputs": [],
   "source": [
    "# Find the number of landmarks\n",
    "N = ... "
   ]
  },
  {
   "cell_type": "markdown",
   "metadata": {},
   "source": [
    "# Kalman state"
   ]
  },
  {
   "cell_type": "markdown",
   "metadata": {},
   "source": [
    "The state we are going to use for the Kalman filter is:\n",
    "$$\n",
    "X_k = \\begin{bmatrix}\n",
    "x_k \\\\ y_k\\\\ \\theta_k\\\\ x_{(0)}\\\\ y_{(0)}\\\\ \\vdots\\\\ x_{(N)}\\\\ y_{(N)}]\n",
    "\\end{bmatrix}\n",
    "$$\n",
    "where the subscripts with parenthesis denotes the landmark number."
   ]
  },
  {
   "cell_type": "markdown",
   "metadata": {},
   "source": [
    "Motion model\n",
    "=========="
   ]
  },
  {
   "cell_type": "markdown",
   "metadata": {},
   "source": [
    "We are going to use a classical non holonomic motion model for the robot, which will be paremeterized by its 2D coordinates and orientation $(x_k,y_k,\\theta_k)$. Let us assume that a linear velocity $V_k$ and an angular velocity $\\omega_k$ drive the robot between timesteps $k$ and $k+1$. We have:\n",
    "$$\n",
    "\\left\\{\n",
    "    \\begin{array}{rcl}\n",
    "    x_{k+1} & = & x_k + V_k\\delta t\\cos\\theta_k \\\\\n",
    "    y_{k+1} & = & y_k + V_k\\delta t\\sin\\theta_k\\\\\n",
    "    \\theta_{k+1} & = & \\theta_k + \\omega_k\\delta t\n",
    "    \\end{array}\n",
    "\\right.\n",
    "$$\n",
    "\n",
    "For the Kalman implementation, we will consider that $V_k$ and $\\omega_k$ are unknown and need to be estimated. Then, we will assume that these values do not move a lot between two time steps. In the simulation, we have:\n",
    "$$\n",
    "\\begin{array}{rcl}\n",
    "  v_{k+1} & \\approx & v_k \\\\\n",
    "  \\omega_{k+1} & \\approx & \\omega_k\n",
    "\\end{array}\n",
    "\n",
    "$$\n",
    "and\n",
    "$$\n",
    "  \\begin{array}{l}\n",
    "    |v_{k+1}-v_k| \\leq 0.1 \\\\\n",
    "    |\\omega_{k+1}-\\omega| \\leq 0.38\n",
    "  \\end{array}\n",
    "$$\n",
    "This should give you a way to set up the order of magnitudes of the variables \n",
    "\n"
   ]
  },
  {
   "cell_type": "markdown",
   "metadata": {},
   "source": [
    "**Can you write two `Python` functions `f`and `F` that computes that return the model prediction $f(X_k)$ and its Jacobian $F=\\partial f / \\partial X$?**"
   ]
  },
  {
   "cell_type": "code",
   "execution_count": 12,
   "metadata": {},
   "outputs": [],
   "source": [
    "def f(X):\n",
    "    pass\n",
    "    #returns the predictuin\n",
    "\n",
    "def F(X):\n",
    "    pass\n",
    "    #returns the Jacobian matrix of the model\n"
   ]
  },
  {
   "cell_type": "markdown",
   "metadata": {},
   "source": [
    "Measurement model\n",
    "===="
   ]
  },
  {
   "cell_type": "markdown",
   "metadata": {},
   "source": [
    "The masurements represent the **position of the landmarks in the robot frame**. Can you give the expression of the $h$ function and its Jacobian $\\partial h / \\partial X$ in the case of a unique landmark? At this step, it is not recommanded to implement these functions in Python"
   ]
  },
  {
   "cell_type": "markdown",
   "metadata": {},
   "source": [
    "The Kalman filter\n",
    "========="
   ]
  },
  {
   "cell_type": "markdown",
   "metadata": {},
   "source": [
    "**Now the competition starts!** It is time to write a Kalman filter that will compute the robot position and the map at each time step. When the algorithm has finished, plot the final map with the trajectory on the same figure. Then, plot the computed $V$ and $\\omega$ on two different figures. Here are some advices:\n",
    "  - The initial values of $X$ should not be random! In particular, some landmarks are already seen at the very initial time step. This information has to be used\n",
    "  - The initial covaraice matrix $P$ should not be set up randomly. There are several information to use, e.g.:\n",
    "    - The initial pose is set up at 0 by convention, and it is supposed to be perfectly known\n",
    "    - The initial velocities are not known\n",
    "    - Some landamrks might be known (the one seen at the very initial stage) and some other not (the ones we see after).\n",
    "  - Make sure about the dimension of the vector and matrices! \n",
    "  - The tricky part is the presence of `NaN` values in the `measurements` matrix. It means you will have to extract the subset of the landmakrs that are seen at each time step. Be careful with that!"
   ]
  },
  {
   "cell_type": "code",
   "execution_count": null,
   "metadata": {},
   "outputs": [],
   "source": []
  },
  {
   "cell_type": "markdown",
   "metadata": {},
   "source": []
  }
 ],
 "metadata": {
  "kernelspec": {
   "display_name": "NCKU",
   "language": "python",
   "name": "python3"
  },
  "language_info": {
   "codemirror_mode": {
    "name": "ipython",
    "version": 3
   },
   "file_extension": ".py",
   "mimetype": "text/x-python",
   "name": "python",
   "nbconvert_exporter": "python",
   "pygments_lexer": "ipython3",
   "version": "3.10.14"
  }
 },
 "nbformat": 4,
 "nbformat_minor": 2
}
